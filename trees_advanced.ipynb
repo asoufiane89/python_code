{
 "cells": [
  {
   "cell_type": "code",
   "execution_count": 63,
   "metadata": {},
   "outputs": [
    {
     "data": {
      "text/plain": [
       "12"
      ]
     },
     "execution_count": 63,
     "metadata": {},
     "output_type": "execute_result"
    }
   ],
   "source": [
    "import numpy as np\n",
    "import pandas as pd\n",
    "from sklearn import ensemble\n",
    "import os\n",
    "import gc\n",
    "gc.collect()"
   ]
  },
  {
   "cell_type": "code",
   "execution_count": 64,
   "metadata": {},
   "outputs": [
    {
     "data": {
      "text/html": [
       "<div>\n",
       "<style scoped>\n",
       "    .dataframe tbody tr th:only-of-type {\n",
       "        vertical-align: middle;\n",
       "    }\n",
       "\n",
       "    .dataframe tbody tr th {\n",
       "        vertical-align: top;\n",
       "    }\n",
       "\n",
       "    .dataframe thead th {\n",
       "        text-align: right;\n",
       "    }\n",
       "</style>\n",
       "<table border=\"1\" class=\"dataframe\">\n",
       "  <thead>\n",
       "    <tr style=\"text-align: right;\">\n",
       "      <th></th>\n",
       "      <th>dates</th>\n",
       "      <th>y0</th>\n",
       "      <th>y_Consumables</th>\n",
       "      <th>y_Consumables_121</th>\n",
       "      <th>y_Consumables_194</th>\n",
       "      <th>y_Consumables_325</th>\n",
       "      <th>y_Consumables_unk</th>\n",
       "      <th>y_Digital</th>\n",
       "      <th>y_Digital_400</th>\n",
       "      <th>y_Digital_425</th>\n",
       "      <th>...</th>\n",
       "      <th>y_Media</th>\n",
       "      <th>y_Media_14</th>\n",
       "      <th>y_Media_63</th>\n",
       "      <th>y_Media_74</th>\n",
       "      <th>y_Media_unk</th>\n",
       "      <th>y_Softlines</th>\n",
       "      <th>y_Softlines_193</th>\n",
       "      <th>y_Softlines_197</th>\n",
       "      <th>y_Softlines_309</th>\n",
       "      <th>y_Softlines_unk</th>\n",
       "    </tr>\n",
       "  </thead>\n",
       "  <tbody>\n",
       "    <tr>\n",
       "      <th>0</th>\n",
       "      <td>2018-02-22</td>\n",
       "      <td>9.786711e+06</td>\n",
       "      <td>2.056353e+06</td>\n",
       "      <td>927153.467281</td>\n",
       "      <td>684852.008028</td>\n",
       "      <td>285339.185703</td>\n",
       "      <td>166096.536019</td>\n",
       "      <td>22445.786542</td>\n",
       "      <td>3441.040474</td>\n",
       "      <td>13786.930879</td>\n",
       "      <td>...</td>\n",
       "      <td>165470.018811</td>\n",
       "      <td>65594.205789</td>\n",
       "      <td>50757.346950</td>\n",
       "      <td>39284.865513</td>\n",
       "      <td>18336.339013</td>\n",
       "      <td>1.233923e+06</td>\n",
       "      <td>815071.739327</td>\n",
       "      <td>105415.473191</td>\n",
       "      <td>216407.593990</td>\n",
       "      <td>77105.729518</td>\n",
       "    </tr>\n",
       "    <tr>\n",
       "      <th>1</th>\n",
       "      <td>2018-02-23</td>\n",
       "      <td>8.854439e+06</td>\n",
       "      <td>1.869976e+06</td>\n",
       "      <td>840052.712326</td>\n",
       "      <td>627824.648383</td>\n",
       "      <td>263410.139031</td>\n",
       "      <td>153471.819806</td>\n",
       "      <td>21216.086484</td>\n",
       "      <td>3479.937837</td>\n",
       "      <td>13858.521393</td>\n",
       "      <td>...</td>\n",
       "      <td>149993.045472</td>\n",
       "      <td>55579.872444</td>\n",
       "      <td>51882.477702</td>\n",
       "      <td>39033.800709</td>\n",
       "      <td>18387.137446</td>\n",
       "      <td>1.127564e+06</td>\n",
       "      <td>750913.364276</td>\n",
       "      <td>110424.957395</td>\n",
       "      <td>197117.980583</td>\n",
       "      <td>76701.178703</td>\n",
       "    </tr>\n",
       "    <tr>\n",
       "      <th>2</th>\n",
       "      <td>2018-02-24</td>\n",
       "      <td>8.663677e+06</td>\n",
       "      <td>1.854103e+06</td>\n",
       "      <td>806229.759751</td>\n",
       "      <td>648342.309865</td>\n",
       "      <td>265045.574680</td>\n",
       "      <td>159048.642764</td>\n",
       "      <td>22020.764486</td>\n",
       "      <td>3412.663039</td>\n",
       "      <td>14011.425344</td>\n",
       "      <td>...</td>\n",
       "      <td>133099.946975</td>\n",
       "      <td>48109.832330</td>\n",
       "      <td>52629.943695</td>\n",
       "      <td>39266.082745</td>\n",
       "      <td>18330.351681</td>\n",
       "      <td>1.130462e+06</td>\n",
       "      <td>746347.280580</td>\n",
       "      <td>111183.480455</td>\n",
       "      <td>203789.095567</td>\n",
       "      <td>77729.866822</td>\n",
       "    </tr>\n",
       "    <tr>\n",
       "      <th>3</th>\n",
       "      <td>2018-02-25</td>\n",
       "      <td>1.006094e+07</td>\n",
       "      <td>2.127054e+06</td>\n",
       "      <td>919822.015411</td>\n",
       "      <td>738801.701388</td>\n",
       "      <td>304907.688383</td>\n",
       "      <td>184180.514420</td>\n",
       "      <td>21357.718493</td>\n",
       "      <td>3382.974595</td>\n",
       "      <td>13872.330865</td>\n",
       "      <td>...</td>\n",
       "      <td>150470.850506</td>\n",
       "      <td>54238.255803</td>\n",
       "      <td>51330.348277</td>\n",
       "      <td>39889.525033</td>\n",
       "      <td>18440.797549</td>\n",
       "      <td>1.329130e+06</td>\n",
       "      <td>866618.227460</td>\n",
       "      <td>112479.330561</td>\n",
       "      <td>235976.477361</td>\n",
       "      <td>76214.925652</td>\n",
       "    </tr>\n",
       "    <tr>\n",
       "      <th>4</th>\n",
       "      <td>2018-02-26</td>\n",
       "      <td>1.046419e+07</td>\n",
       "      <td>2.181118e+06</td>\n",
       "      <td>970335.938970</td>\n",
       "      <td>719459.254788</td>\n",
       "      <td>311390.297202</td>\n",
       "      <td>179487.009552</td>\n",
       "      <td>21711.659505</td>\n",
       "      <td>3330.077424</td>\n",
       "      <td>13618.290389</td>\n",
       "      <td>...</td>\n",
       "      <td>176639.923705</td>\n",
       "      <td>66140.739602</td>\n",
       "      <td>51557.823894</td>\n",
       "      <td>39605.008885</td>\n",
       "      <td>18361.975048</td>\n",
       "      <td>1.310155e+06</td>\n",
       "      <td>847028.357999</td>\n",
       "      <td>103679.982245</td>\n",
       "      <td>233612.117762</td>\n",
       "      <td>77885.028703</td>\n",
       "    </tr>\n",
       "  </tbody>\n",
       "</table>\n",
       "<p>5 rows × 34 columns</p>\n",
       "</div>"
      ],
      "text/plain": [
       "        dates            y0  y_Consumables  y_Consumables_121  \\\n",
       "0  2018-02-22  9.786711e+06   2.056353e+06      927153.467281   \n",
       "1  2018-02-23  8.854439e+06   1.869976e+06      840052.712326   \n",
       "2  2018-02-24  8.663677e+06   1.854103e+06      806229.759751   \n",
       "3  2018-02-25  1.006094e+07   2.127054e+06      919822.015411   \n",
       "4  2018-02-26  1.046419e+07   2.181118e+06      970335.938970   \n",
       "\n",
       "   y_Consumables_194  y_Consumables_325  y_Consumables_unk     y_Digital  \\\n",
       "0      684852.008028      285339.185703      166096.536019  22445.786542   \n",
       "1      627824.648383      263410.139031      153471.819806  21216.086484   \n",
       "2      648342.309865      265045.574680      159048.642764  22020.764486   \n",
       "3      738801.701388      304907.688383      184180.514420  21357.718493   \n",
       "4      719459.254788      311390.297202      179487.009552  21711.659505   \n",
       "\n",
       "   y_Digital_400  y_Digital_425       ...               y_Media    y_Media_14  \\\n",
       "0    3441.040474   13786.930879       ...         165470.018811  65594.205789   \n",
       "1    3479.937837   13858.521393       ...         149993.045472  55579.872444   \n",
       "2    3412.663039   14011.425344       ...         133099.946975  48109.832330   \n",
       "3    3382.974595   13872.330865       ...         150470.850506  54238.255803   \n",
       "4    3330.077424   13618.290389       ...         176639.923705  66140.739602   \n",
       "\n",
       "     y_Media_63    y_Media_74   y_Media_unk   y_Softlines  y_Softlines_193  \\\n",
       "0  50757.346950  39284.865513  18336.339013  1.233923e+06    815071.739327   \n",
       "1  51882.477702  39033.800709  18387.137446  1.127564e+06    750913.364276   \n",
       "2  52629.943695  39266.082745  18330.351681  1.130462e+06    746347.280580   \n",
       "3  51330.348277  39889.525033  18440.797549  1.329130e+06    866618.227460   \n",
       "4  51557.823894  39605.008885  18361.975048  1.310155e+06    847028.357999   \n",
       "\n",
       "   y_Softlines_197  y_Softlines_309  y_Softlines_unk  \n",
       "0    105415.473191    216407.593990     77105.729518  \n",
       "1    110424.957395    197117.980583     76701.178703  \n",
       "2    111183.480455    203789.095567     77729.866822  \n",
       "3    112479.330561    235976.477361     76214.925652  \n",
       "4    103679.982245    233612.117762     77885.028703  \n",
       "\n",
       "[5 rows x 34 columns]"
      ]
     },
     "execution_count": 64,
     "metadata": {},
     "output_type": "execute_result"
    }
   ],
   "source": [
    "input_dir = \"/home/ubuntu/data/\"\n",
    "input_data = pd.read_csv(input_dir + \"python_indep.csv\")\n",
    "input_data.rename(columns= {'Unnamed: 0' : \"dates\"}, inplace=True)\n",
    "input_data.head(5)"
   ]
  },
  {
   "cell_type": "code",
   "execution_count": 65,
   "metadata": {},
   "outputs": [],
   "source": [
    "### prepare train and test\n",
    "X_train = input_data.head(len(input_data) - 30)[['y_Consumables_194','y_Consumables_325','y_Consumables_unk']]\n",
    "Y_train = input_data.head(len(input_data) - 30)[['y_Consumables_121']]\n",
    "X_test = input_data.tail(30)[['y_Consumables_194','y_Consumables_325','y_Consumables_unk']]\n",
    "Y_test = input_data.tail(30)[['dates','y_Consumables_121']]                         "
   ]
  },
  {
   "cell_type": "code",
   "execution_count": null,
   "metadata": {},
   "outputs": [],
   "source": [
    "###Random Forest"
   ]
  },
  {
   "cell_type": "code",
   "execution_count": 80,
   "metadata": {},
   "outputs": [
    {
     "name": "stderr",
     "output_type": "stream",
     "text": [
      "/home/ubuntu/anaconda3/lib/python3.6/site-packages/ipykernel_launcher.py:3: DataConversionWarning: A column-vector y was passed when a 1d array was expected. Please change the shape of y to (n_samples,), for example using ravel().\n",
      "  This is separate from the ipykernel package so we can avoid doing imports until\n"
     ]
    },
    {
     "data": {
      "text/plain": [
       "1265783.506184427"
      ]
     },
     "execution_count": 80,
     "metadata": {},
     "output_type": "execute_result"
    }
   ],
   "source": [
    "\n",
    "clf = ensemble.RandomForestRegressor(n_estimators=100, max_depth=10, random_state=0)\n",
    "test = clf.fit(X_train,Y_train)\n",
    "\n",
    "#### plot difference prediction vs actual\n",
    "comp_rf = pd.concat([pd.DataFrame(clf.predict(X_test), columns = ['prediction']), Y_test.reset_index(drop=True)], axis = 1)\n",
    "comp_rf = comp_rf.set_index('dates')\n",
    "import math\n",
    "\n",
    "#comp_bag.plot()\n",
    "math.sqrt(sum((comp_rf['prediction'] - comp_rf['y_Consumables_121'])**2))"
   ]
  },
  {
   "cell_type": "code",
   "execution_count": null,
   "metadata": {},
   "outputs": [],
   "source": [
    "# Bagging"
   ]
  },
  {
   "cell_type": "code",
   "execution_count": 81,
   "metadata": {},
   "outputs": [
    {
     "name": "stderr",
     "output_type": "stream",
     "text": [
      "/home/ubuntu/anaconda3/lib/python3.6/site-packages/sklearn/utils/validation.py:578: DataConversionWarning: A column-vector y was passed when a 1d array was expected. Please change the shape of y to (n_samples, ), for example using ravel().\n",
      "  y = column_or_1d(y, warn=True)\n"
     ]
    },
    {
     "data": {
      "text/plain": [
       "1265316.8592486014"
      ]
     },
     "execution_count": 81,
     "metadata": {},
     "output_type": "execute_result"
    }
   ],
   "source": [
    "clf = ensemble.BaggingRegressor(n_estimators=100, random_state=0)\n",
    "test = clf.fit(X_train, Y_train)\n",
    "\n",
    "comp_bag = pd.concat([pd.DataFrame(test.predict(X_test),columns = ['prediction']), Y_test.reset_index(drop = True)], axis = 1)\n",
    "comp_bag = comp_bag.set_index(\"dates\")\n",
    "\n",
    "import math\n",
    "\n",
    "#comp_bag.plot()\n",
    "math.sqrt(sum((comp_bag['prediction'] - comp_bag['y_Consumables_121'])**2))"
   ]
  },
  {
   "cell_type": "code",
   "execution_count": null,
   "metadata": {},
   "outputs": [],
   "source": [
    "# Gradient Boosting"
   ]
  },
  {
   "cell_type": "code",
   "execution_count": null,
   "metadata": {},
   "outputs": [],
   "source": []
  },
  {
   "cell_type": "code",
   "execution_count": 83,
   "metadata": {},
   "outputs": [
    {
     "name": "stderr",
     "output_type": "stream",
     "text": [
      "/home/ubuntu/anaconda3/lib/python3.6/site-packages/sklearn/utils/validation.py:578: DataConversionWarning: A column-vector y was passed when a 1d array was expected. Please change the shape of y to (n_samples, ), for example using ravel().\n",
      "  y = column_or_1d(y, warn=True)\n"
     ]
    },
    {
     "data": {
      "text/plain": [
       "1270188.559184828"
      ]
     },
     "execution_count": 83,
     "metadata": {},
     "output_type": "execute_result"
    }
   ],
   "source": [
    "clf = ensemble.GradientBoostingRegressor(n_estimators=10000, random_state=0)\n",
    "test = clf.fit(X_train, Y_train)\n",
    "\n",
    "comp_boost = pd.concat([pd.DataFrame(test.predict(X_test),columns = ['prediction']), Y_test.reset_index(drop = True)], axis = 1)\n",
    "comp_boost = comp_boost.set_index(\"dates\")\n",
    "\n",
    "import math\n",
    "\n",
    "#comp_bag.plot()\n",
    "math.sqrt(sum((comp_boost['prediction'] - comp_boost['y_Consumables_121'])**2))"
   ]
  },
  {
   "cell_type": "code",
   "execution_count": null,
   "metadata": {},
   "outputs": [],
   "source": []
  }
 ],
 "metadata": {
  "kernelspec": {
   "display_name": "Python 3",
   "language": "python",
   "name": "python3"
  },
  "language_info": {
   "codemirror_mode": {
    "name": "ipython",
    "version": 3
   },
   "file_extension": ".py",
   "mimetype": "text/x-python",
   "name": "python",
   "nbconvert_exporter": "python",
   "pygments_lexer": "ipython3",
   "version": "3.6.5"
  }
 },
 "nbformat": 4,
 "nbformat_minor": 2
}
